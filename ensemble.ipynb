{
 "cells": [
  {
   "cell_type": "code",
   "execution_count": 1,
   "metadata": {},
   "outputs": [],
   "source": [
    "import numpy as np\n",
    "import pandas as pd\n",
    "from collections import Counter\n",
    "import matplotlib.pyplot as plt"
   ]
  },
  {
   "cell_type": "markdown",
   "metadata": {},
   "source": [
    "Hard voting ensemble\n",
    "- 같은 폴더 안에 정답 class(0~15)값이 적혀있는 있는 inference output 파일들을 넣고, files에 파일명을 적고 실행하면 됩니다.\n",
    "- 가장 많이나온 정답 값을 최종 정답으로 출력합니다."
   ]
  },
  {
   "cell_type": "code",
   "execution_count": 7,
   "metadata": {},
   "outputs": [],
   "source": [
    "# hard voting ensemble\n",
    "\n",
    "files = ['./output (1).csv', './output (2).csv', './output (3).csv',\n",
    "         './output (4).csv', './output (5).csv', './output (6).csv']\n",
    "\n",
    "ans_list = []\n",
    "\n",
    "for file in files:\n",
    "    f = pd.read_csv(file)\n",
    "    ans = f['ans']\n",
    "    ans_list.append(ans)\n",
    "\n",
    "ensemble = []\n",
    "for pred in zip(*ans_list):\n",
    "    counter = Counter(pred)\n",
    "    ensemble.append(counter.most_common()[0][0])\n",
    "\n",
    "ensemble[0:5]\n"
   ]
  },
  {
   "cell_type": "code",
   "execution_count": 10,
   "metadata": {},
   "outputs": [],
   "source": [
    "output = pd.read_csv('./output (4).csv')\n",
    "output['ans'] = ensemble\n",
    "output.to_csv('ensemble.csv', index=False)"
   ]
  },
  {
   "cell_type": "markdown",
   "metadata": {},
   "source": [
    "Soft voting ensemble\n",
    "- 같은폴더안에 info.csv파일, 8개의 column(3개->mask에 대한 softmax 값, 2개->gender에 대한 softmax 값, 3개->age에 대한 softmax 값)을 가지는 output.csv파일을 넣고 files에 파일명을 적고 실행하면 됩니다.\n",
    "- 모든 파일의 확률값을 더한 후, mask, gender, age 각각에 대해 가장 높은 확률값을 가지는 class를 찾습니다. 그리고 그 값을 하나의 정답 class로 변환하여 출력합니다."
   ]
  },
  {
   "cell_type": "code",
   "execution_count": null,
   "metadata": {},
   "outputs": [],
   "source": [
    "# soft voting\n",
    "\n",
    "files = ['./info.csv', './output_soft_en1.csv',\n",
    "         './output_soft_en2.csv', './output_soft_en3.csv']\n",
    "# 첫파일은 output.csv(제출 형식을 만들기 위한 용도), 나머지는 output_soft_en.csv\n",
    "\n",
    "\n",
    "output = pd.read_csv(files[0])\n",
    "outs_sum = pd.read_csv(files[1])\n",
    "\n",
    "for file in files[2:]:\n",
    "    f = pd.read_csv(file)\n",
    "    outs = f\n",
    "    outs_sum = outs_sum.add(outs)\n",
    "\n",
    "mask_sum = outs_sum.iloc[: ,[0,1,2]]\n",
    "gender_sum = outs_sum.iloc[:, [3,4]]\n",
    "age_sum = outs_sum.iloc[:, [5,6,7]]\n",
    "\n",
    "mask_pred = np.array(mask_sum.idxmax(axis=1), np.int)\n",
    "gender_pred = np.array(gender_sum.idxmax(axis=1), np.int)\n",
    "gender_pred = np.subtract(gender_pred,  3)\n",
    "age_pred = np.array(age_sum.idxmax(axis=1), np.int)\n",
    "age_pred = np.subtract(age_pred,  5)\n",
    "\n",
    "pred = (mask_pred * 6) + (gender_pred * 3) + age_pred\n",
    "\n",
    "\n"
   ]
  },
  {
   "cell_type": "code",
   "execution_count": 30,
   "metadata": {},
   "outputs": [],
   "source": [
    "output = pd.read_csv('./output.csv')\n",
    "output['ans'] = pred\n",
    "output.to_csv('ensemble.csv', index=False)\n",
    "#output.head"
   ]
  }
 ],
 "metadata": {
  "interpreter": {
   "hash": "6f0e1eb57a9ea1a309378333aaa63994bd7135b0e4bd4e7930b1c84481a72fcc"
  },
  "kernelspec": {
   "display_name": "Python 3.7.6 ('base')",
   "language": "python",
   "name": "python3"
  },
  "language_info": {
   "codemirror_mode": {
    "name": "ipython",
    "version": 3
   },
   "file_extension": ".py",
   "mimetype": "text/x-python",
   "name": "python",
   "nbconvert_exporter": "python",
   "pygments_lexer": "ipython3",
   "version": "3.7.6"
  },
  "orig_nbformat": 4
 },
 "nbformat": 4,
 "nbformat_minor": 2
}
